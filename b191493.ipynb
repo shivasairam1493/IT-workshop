{
 "cells": [
  {
   "cell_type": "code",
   "execution_count": 1,
   "id": "e6af661d",
   "metadata": {},
   "outputs": [
    {
     "name": "stdout",
     "output_type": "stream",
     "text": [
      "/home/cse-lab/Desktop/B191493\r\n"
     ]
    }
   ],
   "source": []
  },
  {
   "cell_type": "code",
   "execution_count": 2,
   "id": "eb7ad750",
   "metadata": {},
   "outputs": [
    {
     "name": "stdout",
     "output_type": "stream",
     "text": [
      "b191493.ipynb  MELBOURNE_HOUSE_PRICES_LESS.csv\tUntitled.ipynb\r\n"
     ]
    }
   ],
   "source": []
  },
  {
   "cell_type": "code",
   "execution_count": 18,
   "id": "195ff04f",
   "metadata": {},
   "outputs": [
    {
     "name": "stdout",
     "output_type": "stream",
     "text": [
      "/home/cse-lab/Desktop/B191493\r\n"
     ]
    }
   ],
   "source": [
    "!pwd"
   ]
  },
  {
   "cell_type": "code",
   "execution_count": 19,
   "id": "78c2dbae",
   "metadata": {},
   "outputs": [
    {
     "name": "stdout",
     "output_type": "stream",
     "text": [
      "b191493.ipynb  MELBOURNE_HOUSE_PRICES_LESS.csv\tUntitled.ipynb\r\n"
     ]
    }
   ],
   "source": [
    "!ls"
   ]
  },
  {
   "cell_type": "code",
   "execution_count": 20,
   "id": "e33d5380",
   "metadata": {},
   "outputs": [],
   "source": [
    "import pandas as pd"
   ]
  },
  {
   "cell_type": "code",
   "execution_count": 21,
   "id": "c1767d9c",
   "metadata": {},
   "outputs": [],
   "source": [
    "df=pd.read_csv(\"MELBOURNE_HOUSE_PRICES_LESS.csv\")"
   ]
  },
  {
   "cell_type": "code",
   "execution_count": 22,
   "id": "03d0faf6",
   "metadata": {},
   "outputs": [
    {
     "data": {
      "text/html": [
       "<div>\n",
       "<style scoped>\n",
       "    .dataframe tbody tr th:only-of-type {\n",
       "        vertical-align: middle;\n",
       "    }\n",
       "\n",
       "    .dataframe tbody tr th {\n",
       "        vertical-align: top;\n",
       "    }\n",
       "\n",
       "    .dataframe thead th {\n",
       "        text-align: right;\n",
       "    }\n",
       "</style>\n",
       "<table border=\"1\" class=\"dataframe\">\n",
       "  <thead>\n",
       "    <tr style=\"text-align: right;\">\n",
       "      <th></th>\n",
       "      <th>Suburb</th>\n",
       "      <th>Address</th>\n",
       "      <th>Rooms</th>\n",
       "      <th>Type</th>\n",
       "      <th>Price</th>\n",
       "      <th>Method</th>\n",
       "      <th>SellerG</th>\n",
       "      <th>Date</th>\n",
       "      <th>Postcode</th>\n",
       "      <th>Regionname</th>\n",
       "      <th>Propertycount</th>\n",
       "      <th>Distance</th>\n",
       "      <th>CouncilArea</th>\n",
       "    </tr>\n",
       "  </thead>\n",
       "  <tbody>\n",
       "    <tr>\n",
       "      <th>0</th>\n",
       "      <td>Abbotsford</td>\n",
       "      <td>49 Lithgow St</td>\n",
       "      <td>3</td>\n",
       "      <td>h</td>\n",
       "      <td>1490000.0</td>\n",
       "      <td>S</td>\n",
       "      <td>Jellis</td>\n",
       "      <td>1/04/2017</td>\n",
       "      <td>3067</td>\n",
       "      <td>Northern Metropolitan</td>\n",
       "      <td>4019</td>\n",
       "      <td>3.0</td>\n",
       "      <td>Yarra City Council</td>\n",
       "    </tr>\n",
       "    <tr>\n",
       "      <th>1</th>\n",
       "      <td>Abbotsford</td>\n",
       "      <td>59A Turner St</td>\n",
       "      <td>3</td>\n",
       "      <td>h</td>\n",
       "      <td>1220000.0</td>\n",
       "      <td>S</td>\n",
       "      <td>Marshall</td>\n",
       "      <td>1/04/2017</td>\n",
       "      <td>3067</td>\n",
       "      <td>Northern Metropolitan</td>\n",
       "      <td>4019</td>\n",
       "      <td>3.0</td>\n",
       "      <td>Yarra City Council</td>\n",
       "    </tr>\n",
       "    <tr>\n",
       "      <th>2</th>\n",
       "      <td>Abbotsford</td>\n",
       "      <td>119B Yarra St</td>\n",
       "      <td>3</td>\n",
       "      <td>h</td>\n",
       "      <td>1420000.0</td>\n",
       "      <td>S</td>\n",
       "      <td>Nelson</td>\n",
       "      <td>1/04/2017</td>\n",
       "      <td>3067</td>\n",
       "      <td>Northern Metropolitan</td>\n",
       "      <td>4019</td>\n",
       "      <td>3.0</td>\n",
       "      <td>Yarra City Council</td>\n",
       "    </tr>\n",
       "    <tr>\n",
       "      <th>3</th>\n",
       "      <td>Aberfeldie</td>\n",
       "      <td>68 Vida St</td>\n",
       "      <td>3</td>\n",
       "      <td>h</td>\n",
       "      <td>1515000.0</td>\n",
       "      <td>S</td>\n",
       "      <td>Barry</td>\n",
       "      <td>1/04/2017</td>\n",
       "      <td>3040</td>\n",
       "      <td>Western Metropolitan</td>\n",
       "      <td>1543</td>\n",
       "      <td>7.5</td>\n",
       "      <td>Moonee Valley City Council</td>\n",
       "    </tr>\n",
       "    <tr>\n",
       "      <th>4</th>\n",
       "      <td>Airport West</td>\n",
       "      <td>92 Clydesdale Rd</td>\n",
       "      <td>2</td>\n",
       "      <td>h</td>\n",
       "      <td>670000.0</td>\n",
       "      <td>S</td>\n",
       "      <td>Nelson</td>\n",
       "      <td>1/04/2017</td>\n",
       "      <td>3042</td>\n",
       "      <td>Western Metropolitan</td>\n",
       "      <td>3464</td>\n",
       "      <td>10.4</td>\n",
       "      <td>Moonee Valley City Council</td>\n",
       "    </tr>\n",
       "    <tr>\n",
       "      <th>...</th>\n",
       "      <td>...</td>\n",
       "      <td>...</td>\n",
       "      <td>...</td>\n",
       "      <td>...</td>\n",
       "      <td>...</td>\n",
       "      <td>...</td>\n",
       "      <td>...</td>\n",
       "      <td>...</td>\n",
       "      <td>...</td>\n",
       "      <td>...</td>\n",
       "      <td>...</td>\n",
       "      <td>...</td>\n",
       "      <td>...</td>\n",
       "    </tr>\n",
       "    <tr>\n",
       "      <th>63018</th>\n",
       "      <td>Roxburgh Park</td>\n",
       "      <td>3 Carr Pl</td>\n",
       "      <td>3</td>\n",
       "      <td>h</td>\n",
       "      <td>566000.0</td>\n",
       "      <td>S</td>\n",
       "      <td>Raine</td>\n",
       "      <td>31/03/2018</td>\n",
       "      <td>3064</td>\n",
       "      <td>Northern Metropolitan</td>\n",
       "      <td>5833</td>\n",
       "      <td>20.6</td>\n",
       "      <td>Hume City Council</td>\n",
       "    </tr>\n",
       "    <tr>\n",
       "      <th>63019</th>\n",
       "      <td>Roxburgh Park</td>\n",
       "      <td>9 Parker Ct</td>\n",
       "      <td>3</td>\n",
       "      <td>h</td>\n",
       "      <td>500000.0</td>\n",
       "      <td>S</td>\n",
       "      <td>Raine</td>\n",
       "      <td>31/03/2018</td>\n",
       "      <td>3064</td>\n",
       "      <td>Northern Metropolitan</td>\n",
       "      <td>5833</td>\n",
       "      <td>20.6</td>\n",
       "      <td>Hume City Council</td>\n",
       "    </tr>\n",
       "    <tr>\n",
       "      <th>63020</th>\n",
       "      <td>Roxburgh Park</td>\n",
       "      <td>5 Parkinson Wy</td>\n",
       "      <td>3</td>\n",
       "      <td>h</td>\n",
       "      <td>545000.0</td>\n",
       "      <td>S</td>\n",
       "      <td>Raine</td>\n",
       "      <td>31/03/2018</td>\n",
       "      <td>3064</td>\n",
       "      <td>Northern Metropolitan</td>\n",
       "      <td>5833</td>\n",
       "      <td>20.6</td>\n",
       "      <td>Hume City Council</td>\n",
       "    </tr>\n",
       "    <tr>\n",
       "      <th>63021</th>\n",
       "      <td>Thomastown</td>\n",
       "      <td>3/1 Travers St</td>\n",
       "      <td>3</td>\n",
       "      <td>u</td>\n",
       "      <td>NaN</td>\n",
       "      <td>PI</td>\n",
       "      <td>Barry</td>\n",
       "      <td>31/03/2018</td>\n",
       "      <td>3074</td>\n",
       "      <td>Northern Metropolitan</td>\n",
       "      <td>7955</td>\n",
       "      <td>15.3</td>\n",
       "      <td>Whittlesea City Council</td>\n",
       "    </tr>\n",
       "    <tr>\n",
       "      <th>63022</th>\n",
       "      <td>Williams Landing</td>\n",
       "      <td>1 Diadem Wy</td>\n",
       "      <td>4</td>\n",
       "      <td>h</td>\n",
       "      <td>NaN</td>\n",
       "      <td>SP</td>\n",
       "      <td>Aussie</td>\n",
       "      <td>31/03/2018</td>\n",
       "      <td>3027</td>\n",
       "      <td>Western Metropolitan</td>\n",
       "      <td>1999</td>\n",
       "      <td>17.6</td>\n",
       "      <td>Wyndham City Council</td>\n",
       "    </tr>\n",
       "  </tbody>\n",
       "</table>\n",
       "<p>63023 rows × 13 columns</p>\n",
       "</div>"
      ],
      "text/plain": [
       "                 Suburb           Address  Rooms Type      Price Method  \\\n",
       "0            Abbotsford     49 Lithgow St      3    h  1490000.0      S   \n",
       "1            Abbotsford     59A Turner St      3    h  1220000.0      S   \n",
       "2            Abbotsford     119B Yarra St      3    h  1420000.0      S   \n",
       "3            Aberfeldie        68 Vida St      3    h  1515000.0      S   \n",
       "4          Airport West  92 Clydesdale Rd      2    h   670000.0      S   \n",
       "...                 ...               ...    ...  ...        ...    ...   \n",
       "63018     Roxburgh Park         3 Carr Pl      3    h   566000.0      S   \n",
       "63019     Roxburgh Park       9 Parker Ct      3    h   500000.0      S   \n",
       "63020     Roxburgh Park    5 Parkinson Wy      3    h   545000.0      S   \n",
       "63021        Thomastown    3/1 Travers St      3    u        NaN     PI   \n",
       "63022  Williams Landing       1 Diadem Wy      4    h        NaN     SP   \n",
       "\n",
       "        SellerG        Date  Postcode             Regionname  Propertycount  \\\n",
       "0        Jellis   1/04/2017      3067  Northern Metropolitan           4019   \n",
       "1      Marshall   1/04/2017      3067  Northern Metropolitan           4019   \n",
       "2        Nelson   1/04/2017      3067  Northern Metropolitan           4019   \n",
       "3         Barry   1/04/2017      3040   Western Metropolitan           1543   \n",
       "4        Nelson   1/04/2017      3042   Western Metropolitan           3464   \n",
       "...         ...         ...       ...                    ...            ...   \n",
       "63018     Raine  31/03/2018      3064  Northern Metropolitan           5833   \n",
       "63019     Raine  31/03/2018      3064  Northern Metropolitan           5833   \n",
       "63020     Raine  31/03/2018      3064  Northern Metropolitan           5833   \n",
       "63021     Barry  31/03/2018      3074  Northern Metropolitan           7955   \n",
       "63022    Aussie  31/03/2018      3027   Western Metropolitan           1999   \n",
       "\n",
       "       Distance                 CouncilArea  \n",
       "0           3.0          Yarra City Council  \n",
       "1           3.0          Yarra City Council  \n",
       "2           3.0          Yarra City Council  \n",
       "3           7.5  Moonee Valley City Council  \n",
       "4          10.4  Moonee Valley City Council  \n",
       "...         ...                         ...  \n",
       "63018      20.6           Hume City Council  \n",
       "63019      20.6           Hume City Council  \n",
       "63020      20.6           Hume City Council  \n",
       "63021      15.3     Whittlesea City Council  \n",
       "63022      17.6        Wyndham City Council  \n",
       "\n",
       "[63023 rows x 13 columns]"
      ]
     },
     "execution_count": 22,
     "metadata": {},
     "output_type": "execute_result"
    }
   ],
   "source": [
    "df"
   ]
  },
  {
   "cell_type": "code",
   "execution_count": 23,
   "id": "f2961955",
   "metadata": {},
   "outputs": [
    {
     "data": {
      "text/html": [
       "<div>\n",
       "<style scoped>\n",
       "    .dataframe tbody tr th:only-of-type {\n",
       "        vertical-align: middle;\n",
       "    }\n",
       "\n",
       "    .dataframe tbody tr th {\n",
       "        vertical-align: top;\n",
       "    }\n",
       "\n",
       "    .dataframe thead th {\n",
       "        text-align: right;\n",
       "    }\n",
       "</style>\n",
       "<table border=\"1\" class=\"dataframe\">\n",
       "  <thead>\n",
       "    <tr style=\"text-align: right;\">\n",
       "      <th></th>\n",
       "      <th>Suburb</th>\n",
       "      <th>Address</th>\n",
       "      <th>Rooms</th>\n",
       "      <th>Type</th>\n",
       "      <th>Price</th>\n",
       "      <th>Method</th>\n",
       "      <th>SellerG</th>\n",
       "      <th>Date</th>\n",
       "      <th>Postcode</th>\n",
       "      <th>Regionname</th>\n",
       "      <th>Propertycount</th>\n",
       "      <th>Distance</th>\n",
       "      <th>CouncilArea</th>\n",
       "    </tr>\n",
       "  </thead>\n",
       "  <tbody>\n",
       "    <tr>\n",
       "      <th>63020</th>\n",
       "      <td>Roxburgh Park</td>\n",
       "      <td>5 Parkinson Wy</td>\n",
       "      <td>3</td>\n",
       "      <td>h</td>\n",
       "      <td>545000.0</td>\n",
       "      <td>S</td>\n",
       "      <td>Raine</td>\n",
       "      <td>31/03/2018</td>\n",
       "      <td>3064</td>\n",
       "      <td>Northern Metropolitan</td>\n",
       "      <td>5833</td>\n",
       "      <td>20.6</td>\n",
       "      <td>Hume City Council</td>\n",
       "    </tr>\n",
       "    <tr>\n",
       "      <th>63021</th>\n",
       "      <td>Thomastown</td>\n",
       "      <td>3/1 Travers St</td>\n",
       "      <td>3</td>\n",
       "      <td>u</td>\n",
       "      <td>NaN</td>\n",
       "      <td>PI</td>\n",
       "      <td>Barry</td>\n",
       "      <td>31/03/2018</td>\n",
       "      <td>3074</td>\n",
       "      <td>Northern Metropolitan</td>\n",
       "      <td>7955</td>\n",
       "      <td>15.3</td>\n",
       "      <td>Whittlesea City Council</td>\n",
       "    </tr>\n",
       "    <tr>\n",
       "      <th>63022</th>\n",
       "      <td>Williams Landing</td>\n",
       "      <td>1 Diadem Wy</td>\n",
       "      <td>4</td>\n",
       "      <td>h</td>\n",
       "      <td>NaN</td>\n",
       "      <td>SP</td>\n",
       "      <td>Aussie</td>\n",
       "      <td>31/03/2018</td>\n",
       "      <td>3027</td>\n",
       "      <td>Western Metropolitan</td>\n",
       "      <td>1999</td>\n",
       "      <td>17.6</td>\n",
       "      <td>Wyndham City Council</td>\n",
       "    </tr>\n",
       "  </tbody>\n",
       "</table>\n",
       "</div>"
      ],
      "text/plain": [
       "                 Suburb         Address  Rooms Type     Price Method SellerG  \\\n",
       "63020     Roxburgh Park  5 Parkinson Wy      3    h  545000.0      S   Raine   \n",
       "63021        Thomastown  3/1 Travers St      3    u       NaN     PI   Barry   \n",
       "63022  Williams Landing     1 Diadem Wy      4    h       NaN     SP  Aussie   \n",
       "\n",
       "             Date  Postcode             Regionname  Propertycount  Distance  \\\n",
       "63020  31/03/2018      3064  Northern Metropolitan           5833      20.6   \n",
       "63021  31/03/2018      3074  Northern Metropolitan           7955      15.3   \n",
       "63022  31/03/2018      3027   Western Metropolitan           1999      17.6   \n",
       "\n",
       "                   CouncilArea  \n",
       "63020        Hume City Council  \n",
       "63021  Whittlesea City Council  \n",
       "63022     Wyndham City Council  "
      ]
     },
     "execution_count": 23,
     "metadata": {},
     "output_type": "execute_result"
    }
   ],
   "source": [
    "df.tail(3)"
   ]
  },
  {
   "cell_type": "code",
   "execution_count": 24,
   "id": "f386f168",
   "metadata": {},
   "outputs": [
    {
     "name": "stdout",
     "output_type": "stream",
     "text": [
      "(63023, 13)\n"
     ]
    }
   ],
   "source": [
    "print(df.shape)"
   ]
  },
  {
   "cell_type": "code",
   "execution_count": 25,
   "id": "9043f398",
   "metadata": {},
   "outputs": [],
   "source": [
    "df=df.dropna()"
   ]
  },
  {
   "cell_type": "code",
   "execution_count": 26,
   "id": "33e9007f",
   "metadata": {},
   "outputs": [
    {
     "name": "stdout",
     "output_type": "stream",
     "text": [
      "(48433, 13)\n"
     ]
    }
   ],
   "source": [
    "print(df.shape)"
   ]
  },
  {
   "cell_type": "code",
   "execution_count": 27,
   "id": "cb8b13c2",
   "metadata": {},
   "outputs": [],
   "source": [
    "rooms=df[\"Rooms\"]"
   ]
  },
  {
   "cell_type": "code",
   "execution_count": 28,
   "id": "500e7f02",
   "metadata": {},
   "outputs": [],
   "source": [
    "price=df[\"Price\"]"
   ]
  },
  {
   "cell_type": "code",
   "execution_count": 29,
   "id": "ee6e8279",
   "metadata": {},
   "outputs": [],
   "source": [
    "import matplotlib.pyplot as plt"
   ]
  },
  {
   "cell_type": "code",
   "execution_count": 30,
   "id": "5327c3af",
   "metadata": {},
   "outputs": [
    {
     "data": {
      "image/png": "[encoded data removed]",
      "text/plain": [
       "<Figure size 432x288 with 1 Axes>"
      ]
     },
     "metadata": {
      "needs_background": "light"
     },
     "output_type": "display_data"
    }
   ],
   "source": [
    "fig=plt.figure()\n",
    "plt.hist(x=price,edgecolor=\"black\",bins=10)\n",
    "plt.xlabel(\"price range\")\n",
    "plt.ylabel(\"Number of houses\")\n",
    "plt.title(\"Histogram of price\")\n",
    "plt.show()"
   ]
  },
  {
   "cell_type": "code",
   "execution_count": 35,
   "id": "8cb08338",
   "metadata": {},
   "outputs": [
    {
     "data": {
      "text/plain": [
       "{3: 21812,\n",
       " 4: 11576,\n",
       " 2: 10674,\n",
       " 5: 2350,\n",
       " 1: 1670,\n",
       " 6: 283,\n",
       " 7: 36,\n",
       " 8: 19,\n",
       " 10: 6,\n",
       " 9: 2,\n",
       " 12: 2,\n",
       " 11: 1,\n",
       " 31: 1,\n",
       " 16: 1}"
      ]
     },
     "execution_count": 35,
     "metadata": {},
     "output_type": "execute_result"
    }
   ],
   "source": [
    "rooms_count=df[\"Rooms\"].value_counts()\n",
    "rooms_count=dict(rooms_count)\n",
    "rooms_count"
   ]
  },
  {
   "cell_type": "markdown",
   "id": "79274467",
   "metadata": {},
   "source": []
  },
  {
   "cell_type": "code",
   "execution_count": 58,
   "id": "838c786f",
   "metadata": {},
   "outputs": [
    {
     "name": "stdout",
     "output_type": "stream",
     "text": [
      "85000.0\n",
      "85000.0\n"
     ]
    }
   ],
   "source": [
    "print(min(price))\n",
    "print(min(price))"
   ]
  },
  {
   "cell_type": "code",
   "execution_count": 68,
   "id": "ac5180e0",
   "metadata": {},
   "outputs": [
    {
     "name": "stdout",
     "output_type": "stream",
     "text": [
      "{3: 21812, 4: 11576, 2: 10674, 5: 2350, 1: 1670, 6: 283, 7: 36, 8: 19, 10: 6, 9: 2, 12: 2, 11: 1, 31: 1, 16: 1}\n"
     ]
    }
   ],
   "source": [
    "rooms_count=dict(rooms_count)\n",
    "print(rooms_count)"
   ]
  },
  {
   "cell_type": "raw",
   "id": "18fc5534",
   "metadata": {},
   "source": [
    "a=rooms_count.keys()\n",
    "b=rooms_count.values()"
   ]
  },
  {
   "cell_type": "code",
   "execution_count": 70,
   "id": "a60a0988",
   "metadata": {},
   "outputs": [],
   "source": [
    "a=rooms_count.keys()\n",
    "b=rooms_count.values()"
   ]
  },
  {
   "cell_type": "code",
   "execution_count": 71,
   "id": "87654212",
   "metadata": {},
   "outputs": [
    {
     "data": {
      "text/plain": [
       "<function matplotlib.pyplot.legend(*args, **kwargs)>"
      ]
     },
     "execution_count": 71,
     "metadata": {},
     "output_type": "execute_result"
    },
    {
     "data": {
      "image/png": "[encoded data removed]",
      "text/plain": [
       "<Figure size 360x360 with 1 Axes>"
      ]
     },
     "metadata": {},
     "output_type": "display_data"
    }
   ],
   "source": [
    "#pie_chart\n",
    "fig=plt.figure\n",
    "fig=plt.figure(figsize=(5,5))\n",
    "plt.pie(x=b,labels=a)\n",
    "plt.legend"
   ]
  },
  {
   "cell_type": "code",
   "execution_count": 72,
   "id": "1663fed0",
   "metadata": {},
   "outputs": [
    {
     "name": "stdout",
     "output_type": "stream",
     "text": [
      "{'h': 34161, 'u': 9292, 't': 4980}\n"
     ]
    }
   ],
   "source": [
    "#Barplot\n",
    "#Type\n",
    "type_count=df[\"Type\"].value_counts()\n",
    "type_count=dict(type_count)\n",
    "print(type_count)"
   ]
  },
  {
   "cell_type": "code",
   "execution_count": 73,
   "id": "e66ccb50",
   "metadata": {},
   "outputs": [
    {
     "name": "stdout",
     "output_type": "stream",
     "text": [
      "{'Reservoir': 1067, 'Bentleigh East': 696, 'Richmond': 642, 'Craigieburn': 598, 'Preston': 593, 'Mount Waverley': 556, 'Brunswick': 540, 'Northcote': 496, 'Cheltenham': 493, 'Glen Waverley': 486, 'Essendon': 485, 'Glenroy': 482, 'Coburg': 464, 'Mill Park': 454, 'South Yarra': 436, 'Glen Iris': 434, 'Pascoe Vale': 433, 'Bundoora': 431, 'Kew': 430, 'Hawthorn': 429, 'Epping': 421, 'St Kilda': 410, 'Balwyn North': 407, 'Brighton': 404, 'Thornbury': 394, 'Doncaster East': 393, 'Hoppers Crossing': 381, 'Bentleigh': 378, 'Camberwell': 376, 'Brighton East': 366, 'Port Melbourne': 362, 'Greensborough': 357, 'Yarraville': 351, 'Moonee Ponds': 322, 'Werribee': 319, 'Malvern East': 314, 'Mentone': 313, 'Ascot Vale': 313, 'Mitcham': 308, 'Carnegie': 307, 'Prahran': 307, 'Keilor East': 304, 'Footscray': 304, 'Balwyn': 299, 'Lalor': 297, 'Mulgrave': 297, 'Frankston': 292, 'Newport': 290, 'Brunswick West': 289, 'Hampton': 288, 'Elwood': 282, 'Doncaster': 278, 'Surrey Hills': 277, 'Thomastown': 273, 'Parkdale': 272, 'Sunshine West': 270, 'Maribyrnong': 269, 'Highett': 264, 'St Albans': 261, 'Fawkner': 259, 'South Morang': 256, 'Williamstown': 254, 'Kensington': 253, 'Hawthorn East': 252, 'Beaumaris': 245, 'Sunbury': 244, 'West Footscray': 243, 'Croydon': 237, 'Toorak': 235, 'Templestowe Lower': 232, 'Fitzroy North': 231, 'Sunshine': 229, 'Ivanhoe': 227, 'Blackburn': 226, 'Mernda': 225, 'Strathmore': 223, 'Ringwood': 223, 'Roxburgh Park': 219, 'Burwood': 218, 'Maidstone': 217, 'Broadmeadows': 215, 'Greenvale': 215, 'Eltham': 211, 'Templestowe': 209, 'Melbourne': 207, 'Airport West': 206, 'Sandringham': 204, 'Armadale': 202, 'Hillside': 200, 'Brunswick East': 197, 'South Melbourne': 197, 'Point Cook': 197, 'Avondale Heights': 194, 'Coburg North': 194, 'Montmorency': 192, 'Murrumbeena': 191, 'Wheelers Hill': 186, 'Nunawading': 184, 'Dingley Village': 183, 'Niddrie': 179, 'Sunshine North': 178, 'Heidelberg Heights': 178, 'Bulleen': 177, 'Gladstone Park': 171, 'Altona North': 171, 'Ormond': 169, 'Taylors Lakes': 163, 'Elsternwick': 162, 'Blackburn South': 161, 'Tullamarine': 161, 'Mordialloc': 159, 'MacLeod': 157, 'Malvern': 157, 'Forest Hill': 156, 'Oak Park': 155, 'Fitzroy': 154, 'North Melbourne': 153, 'Clifton Hill': 151, 'Donvale': 151, 'Ashburton': 150, 'Oakleigh South': 150, 'Moorabbin': 147, 'Heidelberg West': 147, 'Rosanna': 146, 'Kew East': 145, 'Abbotsford': 142, 'Altona': 142, 'Blackburn North': 139, 'Collingwood': 138, 'Noble Park': 137, 'Ashwood': 135, 'Wantirna South': 135, 'Seddon': 133, 'Ringwood East': 131, 'Albert Park': 128, 'Keilor Downs': 128, 'Wollert': 127, 'Ferntree Gully': 126, 'Braybrook': 125, 'Flemington': 125, 'Caulfield South': 124, 'Burwood East': 124, 'Clayton': 123, 'Seaford': 123, 'Fairfield': 120, 'Carlton': 120, 'Watsonia': 120, 'Wyndham Vale': 119, 'Hadfield': 119, 'Carlton North': 119, 'Clayton South': 118, 'Edithvale': 117, 'Box Hill': 116, 'Wantirna': 116, 'Sydenham': 116, 'Black Rock': 116, 'Canterbury': 116, 'Dandenong North': 116, 'Hampton East': 115, 'Westmeadows': 114, 'Vermont': 114, 'Chadstone': 112, 'Windsor': 112, 'Doreen': 109, 'Springvale': 108, 'Dandenong': 108, 'Heidelberg': 108, 'Tarneit': 108, 'Viewbank': 108, 'Frankston South': 107, 'Mont Albert': 104, 'Taylors Hill': 104, 'Chelsea': 103, 'Boronia': 103, 'Heathmont': 102, 'McKinnon': 102, 'Deer Park': 101, 'Oakleigh': 100, 'Melton South': 100, 'Aspendale': 98, 'Aberfeldie': 95, 'Kingsville': 92, 'Bayswater': 92, 'Keysborough': 91, 'Berwick': 90, 'Albion': 90, 'Vermont South': 90, 'Oakleigh East': 90, 'Ardeer': 89, 'Caulfield North': 89, 'Mooroolbark': 86, 'Alphington': 85, 'Southbank': 85, 'Meadow Heights': 84, 'Rowville': 82, 'Caroline Springs': 80, 'Gisborne': 77, 'Balaclava': 76, 'Clarinda': 74, 'Diamond Creek': 73, 'Gowanbrae': 73, 'Carrum': 73, 'Hughesdale': 72, 'Eltham North': 71, 'Glen Huntly': 70, 'Parkville': 70, 'Yallambie': 69, 'Ringwood North': 69, 'Briar Hill': 67, 'Altona Meadows': 67, 'Spotswood': 67, 'Jacana': 66, 'Ivanhoe East': 66, 'West Melbourne': 65, 'Middle Park': 64, 'Keilor': 64, 'Dallas': 63, 'Bonbeach': 62, 'Melton': 60, 'Delahey': 60, 'Essendon North': 59, 'Watsonia North': 58, 'Carrum Downs': 58, 'Lower Plenty': 57, 'Endeavour Hills': 57, 'Melton West': 56, 'Eaglemont': 52, 'Cremorne': 51, 'Aspendale Gardens': 51, 'East Melbourne': 51, 'Kings Park': 50, 'Brooklyn': 50, 'Essendon West': 49, 'Kingsbury': 49, 'Narre Warren': 48, 'Keilor Park': 48, 'Croydon North': 45, 'Kealba': 45, 'Truganina': 44, 'Doveton': 43, 'Knoxfield': 43, 'South Kingsville': 42, 'Bayswater North': 42, 'Kilsyth': 41, 'Chelsea Heights': 41, 'Derrimut': 40, 'Cairnlea': 40, 'Bellfield': 39, 'Huntingdale': 39, 'Scoresby': 38, 'Attwood': 36, 'Springvale South': 36, 'Deepdene': 36, 'Patterson Lakes': 34, 'Mickleham': 34, 'Croydon South': 32, 'Williamstown North': 31, 'Langwarrin': 31, 'Pakenham': 30, 'Warrandyte': 29, 'Wallan': 29, 'Frankston North': 29, 'Kurunjang': 28, 'Notting Hill': 28, 'Seaholme': 28, 'Burnside Heights': 26, 'Princes Hill': 26, 'Croydon Hills': 24, 'Caulfield East': 24, 'St Helena': 24, 'Chirnside Park': 23, 'Caulfield': 23, 'Plumpton': 23, 'Ripponlea': 22, 'Campbellfield': 21, 'Cranbourne': 21, 'Albanvale': 20, 'Hampton Park': 19, 'Travancore': 19, 'Strathmore Heights': 19, 'Williams Landing': 18, 'Research': 18, 'Lilydale': 16, 'Gardenvale': 16, 'Burnley': 16, 'Macleod': 16, 'Heatherton': 15, 'Waterways': 15, 'Coolaroo': 15, 'Riddells Creek': 14, 'Keilor Lodge': 13, 'Kooyong': 13, 'New Gisborne': 13, 'Laverton': 12, 'Burnside': 12, 'Warranwood': 12, 'Hallam': 12, 'The Basin': 12, 'Cranbourne West': 12, 'North Warrandyte': 11, 'Plenty': 11, 'Manor Lakes': 10, 'Skye': 10, 'Cranbourne North': 10, 'Docklands': 9, 'Bacchus Marsh': 9, 'Mount Evelyn': 8, 'Brookfield': 8, 'Cranbourne East': 8, 'Seabrook': 8, 'Wattle Glen': 8, 'Diggers Rest': 8, 'Rockbank': 8, 'Eumemmerring': 8, 'Beaconsfield': 7, 'Emerald': 6, 'Sandhurst': 6, 'Healesville': 6, 'Whittlesea': 6, 'Bullengarook': 5, 'Officer': 5, 'Wonga Park': 5, 'Montrose': 5, 'Hurstbridge': 5, 'Upwey': 4, 'Lynbrook': 4, 'Oaklands Junction': 4, 'Tecoma': 4, 'Gisborne South': 4, 'Eynesbury': 3, 'Lysterfield': 3, 'Bulla': 3, 'Beaconsfield Upper': 3, 'Silvan': 3, 'Yarra Glen': 3, 'Botanic Ridge': 3, 'Kalkallo': 3, 'Clyde North': 3, 'Kilsyth South': 2, 'Cranbourne South': 2, 'Park Orchards': 2, 'Monbulk': 2, 'Ferny Creek': 2, 'Lyndhurst': 2, 'Panton Hill': 2, 'Werribee South': 2, 'Belgrave Heights': 1, 'Don Valley': 1, 'Chintin': 1, 'Darley': 1, 'Warneet': 1, 'croydon': 1, 'Seville': 1, 'viewbank': 1, 'Mount Dandenong': 1, 'Yan Yean': 1, 'Pentland Hills': 1, 'Belgrave South': 1, 'Belgrave': 1, 'Coldstream': 1, 'Kalorama': 1, 'Castella': 1, 'Wildwood': 1, 'Olinda': 1, 'Kallista': 1, 'Cockatoo': 1, 'Warrandyte South': 1, 'Woori Yallock': 1, 'Wandin North': 1, 'Yarra Junction': 1}\n"
     ]
    }
   ],
   "source": [
    "#Suburb\n",
    "suburb=df[\"Suburb\"].value_counts()\n",
    "suburb=dict(suburb)\n",
    "print(suburb)"
   ]
  },
  {
   "cell_type": "code",
   "execution_count": 77,
   "id": "04ba153f",
   "metadata": {},
   "outputs": [
    {
     "name": "stdout",
     "output_type": "stream",
     "text": [
      "{'S': 30624, 'SP': 6480, 'PI': 5940, 'VB': 5024, 'SA': 365}\n"
     ]
    }
   ],
   "source": [
    "#Method\n",
    "method=df[\"Method\"].value_counts()\n",
    "method=dict(method)\n",
    "print(method)"
   ]
  },
  {
   "cell_type": "code",
   "execution_count": 78,
   "id": "3b3e7c4b",
   "metadata": {},
   "outputs": [
    {
     "name": "stdout",
     "output_type": "stream",
     "text": [
      "{'h': 34161, 'u': 9292, 't': 4980}\n"
     ]
    }
   ],
   "source": [
    "#Barplot\n",
    "#Type\n",
    "typpe_count=df[\"Type\"].value_counts\n",
    "type_counts=dict(type_count)\n",
    "print(type_count)"
   ]
  },
  {
   "cell_type": "code",
   "execution_count": 79,
   "id": "a65cfd68",
   "metadata": {},
   "outputs": [],
   "source": [
    "k=list(type_count.keys())\n",
    "v=list(type_count.values())"
   ]
  },
  {
   "cell_type": "code",
   "execution_count": 92,
   "id": "addd3c5f",
   "metadata": {},
   "outputs": [
    {
     "data": {
      "image/png": "[encoded data removed]",
      "text/plain": [
       "<Figure size 504x504 with 1 Axes>"
      ]
     },
     "metadata": {
      "needs_background": "light"
     },
     "output_type": "display_data"
    }
   ],
   "source": [
    "fig=plt.figure(figsize=(7,7))\n",
    "plt.bar(x=k,height=v)\n",
    "plt.show()"
   ]
  },
  {
   "cell_type": "code",
   "execution_count": 97,
   "id": "ea30b6f8",
   "metadata": {},
   "outputs": [],
   "source": [
    "#Scatter plot\n",
    "price=df[\"Price\"]\n",
    "price=list(price)\n",
    "distance=df[\"Distance\"]\n",
    "distance=list(distance)"
   ]
  },
  {
   "cell_type": "code",
   "execution_count": 112,
   "id": "c044106b",
   "metadata": {},
   "outputs": [
    {
     "data": {
      "image/png": "[encoded data removed]",
      "text/plain": [
       "<Figure size 720x720 with 1 Axes>"
      ]
     },
     "metadata": {
      "needs_background": "light"
     },
     "output_type": "display_data"
    }
   ],
   "source": [
    "fig=plt.figure(figsize=(10,10))\n",
    "#Line plot\n",
    "plt.plot(distance,price,linestyle=\"\",marker=\"o\",markerfacecolor=\"yellow\",markeredgecolor=\"black\")\n",
    "plt.xlabel(\"Distance\")\n",
    "plt.ylabel(\"price\")\n",
    "plt.title(\"Distance VS price\")\n",
    "plt.show()"
   ]
  },
  {
   "cell_type": "code",
   "execution_count": null,
   "id": "6dd0d44c",
   "metadata": {},
   "outputs": [],
   "source": []
  }
 ],
 "metadata": {
  "kernelspec": {
   "display_name": "Python 3 (ipykernel)",
   "language": "python",
   "name": "python3"
  },
  "language_info": {
   "codemirror_mode": {
    "name": "ipython",
    "version": 3
   },
   "file_extension": ".py",
   "mimetype": "text/x-python",
   "name": "python",
   "nbconvert_exporter": "python",
   "pygments_lexer": "ipython3",
   "version": "3.9.12"
  }
 },
 "nbformat": 4,
 "nbformat_minor": 5
}
